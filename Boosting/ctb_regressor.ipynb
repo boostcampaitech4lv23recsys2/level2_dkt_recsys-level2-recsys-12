{
 "cells": [
  {
   "cell_type": "code",
   "execution_count": 1,
   "metadata": {},
   "outputs": [],
   "source": [
    "import pandas as pd\n",
    "import matplotlib.pyplot as plt\n",
    "import seaborn as sns\n",
    "import os\n",
    "import sys\n",
    "\n",
    "sys.path.append(r\"../\")\n",
    "from data_loader import ctb_data_loader\n",
    "from sklearn.model_selection import GridSearchCV, KFold, StratifiedKFold\n",
    "from sklearn.metrics import accuracy_score, roc_auc_score\n",
    "\n",
    "from catboost import CatBoostRegressor\n",
    "\n",
    "from datetime import datetime"
   ]
  },
  {
   "cell_type": "code",
   "execution_count": 2,
   "metadata": {},
   "outputs": [],
   "source": [
    "IS_CUSTOM = True\n",
    "USE_VALID = True\n",
    "DROPS = [\n",
    "        \"assessmentItemID\", \"testId\", \"Timestamp\",'year', 'day', 'minute', 'second', \n",
    "        # 'userID',\n",
    "        # 'KnowledgeTag',\n",
    "        # 'userAnswerRate',\n",
    "        # 'userSolvedLen',\n",
    "        # 'testAnswerRate',\n",
    "        # 'testSolvedLen', \n",
    "        # 'tagAnswerRate', \n",
    "        # 'tagSolvedLen',\n",
    "        # 'itemAnswerRate', \n",
    "        # 'itemSolvedLen', \n",
    "        # 'month', \n",
    "        # 'hour',\n",
    "        # 'first3', \n",
    "        # 'mid3', \n",
    "        # 'last3', \n",
    "        # 'timeConcentrationRate',\n",
    "        # 'timeConcentrationCount', \n",
    "        # 'timeConcentrationLevel',\n",
    "        # 'user_correct_answer', \n",
    "        # 'user_total_answer', \n",
    "        # 'user_acc',\n",
    "        # 'monthAnswerRate', \n",
    "        # 'monthSolvedCount'\n",
    "    ]"
   ]
  },
  {
   "cell_type": "markdown",
   "metadata": {},
   "source": [
    "# CTB preprocessing"
   ]
  },
  {
   "cell_type": "code",
   "execution_count": 3,
   "metadata": {},
   "outputs": [
    {
     "name": "stdout",
     "output_type": "stream",
     "text": [
      "userID\n",
      "KnowledgeTag\n",
      "userSolvedLen\n",
      "testSolvedLen\n",
      "tagSolvedLen\n",
      "itemSolvedLen\n",
      "timeConcentrationCount\n",
      "timeConcentrationLevel\n",
      "user_total_answer\n",
      "monthSolvedCount\n",
      "userID\n",
      "KnowledgeTag\n",
      "userSolvedLen\n",
      "testSolvedLen\n",
      "tagSolvedLen\n",
      "itemSolvedLen\n",
      "timeConcentrationCount\n",
      "timeConcentrationLevel\n",
      "user_total_answer\n",
      "monthSolvedCount\n",
      "userID\n",
      "answerCode\n",
      "KnowledgeTag\n",
      "userSolvedLen\n",
      "testSolvedLen\n",
      "tagSolvedLen\n",
      "itemSolvedLen\n",
      "timeConcentrationCount\n",
      "timeConcentrationLevel\n",
      "user_total_answer\n",
      "monthSolvedCount\n"
     ]
    }
   ],
   "source": [
    "x_train, x_valid, y_train, y_valid, test = ctb_data_loader(IS_CUSTOM=IS_CUSTOM, USE_VALID=USE_VALID, DROPS=DROPS)\n",
    "cat_features = x_train.columns[x_train.nunique()<200].to_list()"
   ]
  },
  {
   "cell_type": "markdown",
   "metadata": {},
   "source": [
    "# CatBoostRegressor"
   ]
  },
  {
   "cell_type": "code",
   "execution_count": 4,
   "metadata": {},
   "outputs": [],
   "source": [
    "model = CatBoostRegressor(cat_features=cat_features, task_type=\"GPU\", leaf_estimation_iterations=10, od_type=\"Iter\", logging_level=\"Silent\")\n",
    "# , logging_level=\"Silent\",\"Info\"\n",
    "if USE_VALID:\n",
    "    model = CatBoostRegressor(cat_features=cat_features, task_type=\"GPU\", use_best_model=True, leaf_estimation_iterations=10, od_type=\"Iter\", early_stopping_rounds=100, logging_level=\"Silent\")\n",
    "\n",
    "predict = None\n",
    "param_grid = {\n",
    "        'iterations': [200],\n",
    "        'depth': [10],\n",
    "        'learning_rate': [0.1],\n",
    "        # 'custom_loss': ['TotalF1'],\n",
    "        # 'eval_metric': ['TotalF1'],\n",
    "        # 'random_seed': [42],\n",
    "        # 'min_data_in_leaf': [3,4,5],\n",
    "        # 'max_leaves': [200],\n",
    "        # 'l2_leaf_reg': [100],\n",
    "        # 'border_count': [100],\n",
    "        # 'bagging_temperature': [500],\n",
    "}\n",
    "cv = StratifiedKFold(n_splits=5, shuffle=True, random_state=42)\n",
    "# cv = KFold(n_splits=6, random_state=42, shuffle=True)\n",
    "\n",
    "gcv = GridSearchCV(\n",
    "    model,\n",
    "    param_grid=param_grid,\n",
    "    cv=cv,\n",
    "    scoring=\"roc_auc\",\n",
    "    n_jobs=1,\n",
    "    pre_dispatch=8,\n",
    "    # verbose=1,\n",
    ")"
   ]
  },
  {
   "cell_type": "code",
   "execution_count": 5,
   "metadata": {},
   "outputs": [
    {
     "data": {
      "application/vnd.jupyter.widget-view+json": {
       "model_id": "62fb48ef21e34bc8bb78882485e187d9",
       "version_major": 2,
       "version_minor": 0
      },
      "text/plain": [
       "MetricVisualizer(layout=Layout(align_self='stretch', height='500px'))"
      ]
     },
     "metadata": {},
     "output_type": "display_data"
    },
    {
     "data": {
      "application/vnd.jupyter.widget-view+json": {
       "model_id": "8a2d77fd19aa46fc968d1e7ccc960fc0",
       "version_major": 2,
       "version_minor": 0
      },
      "text/plain": [
       "MetricVisualizer(layout=Layout(align_self='stretch', height='500px'))"
      ]
     },
     "metadata": {},
     "output_type": "display_data"
    },
    {
     "data": {
      "application/vnd.jupyter.widget-view+json": {
       "model_id": "d6ba0802519141268604cf346a0fe7a3",
       "version_major": 2,
       "version_minor": 0
      },
      "text/plain": [
       "MetricVisualizer(layout=Layout(align_self='stretch', height='500px'))"
      ]
     },
     "metadata": {},
     "output_type": "display_data"
    },
    {
     "data": {
      "application/vnd.jupyter.widget-view+json": {
       "model_id": "671a2c5e36f045b5bb87c53e36bc68e2",
       "version_major": 2,
       "version_minor": 0
      },
      "text/plain": [
       "MetricVisualizer(layout=Layout(align_self='stretch', height='500px'))"
      ]
     },
     "metadata": {},
     "output_type": "display_data"
    },
    {
     "data": {
      "application/vnd.jupyter.widget-view+json": {
       "model_id": "753f83b8c2a24ca5ac43f4e86ba2f508",
       "version_major": 2,
       "version_minor": 0
      },
      "text/plain": [
       "MetricVisualizer(layout=Layout(align_self='stretch', height='500px'))"
      ]
     },
     "metadata": {},
     "output_type": "display_data"
    },
    {
     "data": {
      "application/vnd.jupyter.widget-view+json": {
       "model_id": "b08d23686c394c3eb2a7c92978a739fb",
       "version_major": 2,
       "version_minor": 0
      },
      "text/plain": [
       "MetricVisualizer(layout=Layout(align_self='stretch', height='500px'))"
      ]
     },
     "metadata": {},
     "output_type": "display_data"
    },
    {
     "name": "stdout",
     "output_type": "stream",
     "text": [
      "final params {'depth': 10, 'iterations': 200, 'learning_rate': 0.1}\n",
      "best score 0.8184947161695867\n"
     ]
    }
   ],
   "source": [
    "show=True\n",
    "if USE_VALID:\n",
    "    gcv.fit(x_train, y_train, eval_set=[(x_valid, y_valid)],plot=show, verbose=show)\n",
    "else:\n",
    "    gcv.fit(x_train, y_train,plot=show, verbose=show)\n",
    "# , verbose=2, silent=False\n",
    "print(\"final params\", gcv.best_params_)\n",
    "print(\"best score\", gcv.best_score_)"
   ]
  },
  {
   "cell_type": "code",
   "execution_count": 6,
   "metadata": {},
   "outputs": [
    {
     "name": "stdout",
     "output_type": "stream",
     "text": [
      "writing prediction : ./output/CTB_R_grid_kfold_custom_submission_2022-11-26_16:19:40.csv\n"
     ]
    }
   ],
   "source": [
    "# SAVE OUTPUT\n",
    "model = gcv.best_estimator_\n",
    "sub = pd.read_csv(\"/opt/ml/input/data/sample_submission.csv\")\n",
    "sub[\"prediction\"] = model.predict(test.drop(\"answerCode\", axis=1))\n",
    "\n",
    "output_dir = \"./output/\"\n",
    "now = datetime.now()\n",
    "now_str = \"{:%Y-%m-%d_%H:%M:%S}\".format(now)\n",
    "file_name = f\"CTB_R_grid_kfold_custom_submission_{now_str}.csv\"\n",
    "write_path = os.path.join(output_dir, file_name)\n",
    "if not os.path.exists(output_dir):\n",
    "    os.makedirs(output_dir)\n",
    "with open(write_path, \"w\", encoding=\"utf8\") as w:\n",
    "    print(\"writing prediction : {}\".format(write_path))\n",
    "    w.write(\"id,prediction\\n\")\n",
    "    for id, p in enumerate(sub[\"prediction\"]):\n",
    "        w.write(\"{},{}\\n\".format(id, p))"
   ]
  },
  {
   "cell_type": "code",
   "execution_count": 7,
   "metadata": {},
   "outputs": [],
   "source": [
    "def get_accuracy(PRED_PATH=file_name):\n",
    "    threshold = 0.5\n",
    "    ANSWER_PATH = \"../../data/custom_answer.csv\"\n",
    "\n",
    "    submission_result = pd.read_csv(PRED_PATH)\n",
    "    answer = pd.read_csv(ANSWER_PATH)\n",
    "\n",
    "    y_pred, y = submission_result[\"prediction\"], answer[\"prediction\"]\n",
    "\n",
    "    return f\"accuracy_score: {accuracy_score(y,y_pred.apply(lambda x: 1 if x > threshold else 0))}\\nroc  auc_score: {roc_auc_score(y,y_pred)}\""
   ]
  },
  {
   "cell_type": "code",
   "execution_count": 8,
   "metadata": {},
   "outputs": [
    {
     "name": "stdout",
     "output_type": "stream",
     "text": [
      "accuracy_score: 0.7056451612903226\n",
      "roc  auc_score: 0.7858203550763334\n"
     ]
    }
   ],
   "source": [
    "if IS_CUSTOM:\n",
    "    print(get_accuracy(\"output/\" + file_name))\n"
   ]
  },
  {
   "cell_type": "code",
   "execution_count": 9,
   "metadata": {},
   "outputs": [
    {
     "data": {
      "image/png": "[encoded data removed]",
      "text/plain": [
       "<Figure size 800x600 with 1 Axes>"
      ]
     },
     "metadata": {},
     "output_type": "display_data"
    }
   ],
   "source": [
    "ft_importance_values = model.feature_importances_\n",
    "\n",
    "# 정렬과 시각화를 쉽게 하기 위해 series 전환\n",
    "ft_series = pd.Series(ft_importance_values, index = x_train.columns)\n",
    "ft_top20 = ft_series.sort_values(ascending=False)[:20]\n",
    "\n",
    "# 시각화\n",
    "plt.figure(figsize=(8,6))\n",
    "plt.title('Feature Importance Top 20')\n",
    "sns.barplot(x=ft_top20, y=ft_top20.index)\n",
    "plt.show()"
   ]
  },
  {
   "cell_type": "code",
   "execution_count": null,
   "metadata": {},
   "outputs": [],
   "source": []
  }
 ],
 "metadata": {
  "kernelspec": {
   "display_name": "Python 3.10.8 ('ctb')",
   "language": "python",
   "name": "python3"
  },
  "language_info": {
   "codemirror_mode": {
    "name": "ipython",
    "version": 3
   },
   "file_extension": ".py",
   "mimetype": "text/x-python",
   "name": "python",
   "nbconvert_exporter": "python",
   "pygments_lexer": "ipython3",
   "version": "3.10.8"
  },
  "orig_nbformat": 4,
  "vscode": {
   "interpreter": {
    "hash": "885102bafdf43bd5dceef5292f7e879663b56712805a9bd44c97377f562c6393"
   }
  }
 },
 "nbformat": 4,
 "nbformat_minor": 2
}
