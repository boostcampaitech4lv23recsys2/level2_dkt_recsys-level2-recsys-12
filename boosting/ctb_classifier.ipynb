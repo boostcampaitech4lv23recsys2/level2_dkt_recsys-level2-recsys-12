{
 "cells": [
  {
   "cell_type": "code",
   "execution_count": 9,
   "metadata": {},
   "outputs": [],
   "source": [
    "import pandas as pd\n",
    "import matplotlib.pyplot as plt\n",
    "import seaborn as sns\n",
    "import os\n",
    "import sys\n",
    "\n",
    "sys.path.append(r\"../\")\n",
    "from data_loader import load_data, get_entire_data, get_features, split_train_valid_test_categorical\n",
    "from sklearn.model_selection import GridSearchCV, KFold, StratifiedKFold\n",
    "from sklearn.metrics import accuracy_score, roc_auc_score\n",
    "from sklearn.cluster import KMeans\n",
    "\n",
    "from catboost import CatBoostClassifier\n",
    "\n",
    "from datetime import datetime\n",
    "import numpy as np"
   ]
  },
  {
   "cell_type": "code",
   "execution_count": 10,
   "metadata": {},
   "outputs": [],
   "source": [
    "IS_CUSTOM = True\n",
    "USE_VALID = True\n",
    "DROPS = [\n",
    "        \"assessmentItemID\", \"testId\", \"Timestamp\",'year', 'day', 'minute', 'second', \n",
    "        # 'userID',\n",
    "        # 'KnowledgeTag',\n",
    "        # 'userAnswerRate',\n",
    "        # 'userSolvedLen',\n",
    "        # 'testAnswerRate',\n",
    "        # 'testSolvedLen', \n",
    "        # 'tagAnswerRate', \n",
    "        # 'tagSolvedLen',\n",
    "        # 'itemAnswerRate', \n",
    "        # 'itemSolvedLen', \n",
    "        # 'month', \n",
    "        # 'hour',\n",
    "        # 'first3', \n",
    "        # 'mid3', \n",
    "        # 'last3', \n",
    "        # 'timeConcentrationRate',\n",
    "        # 'timeConcentrationCount', \n",
    "        # 'timeConcentrationLevel',\n",
    "        # 'user_correct_answer', \n",
    "        # 'user_total_answer', \n",
    "        # 'user_acc',\n",
    "        # 'monthAnswerRate', \n",
    "        # 'monthSolvedCount'\n",
    "    ]"
   ]
  },
  {
   "cell_type": "code",
   "execution_count": 11,
   "metadata": {},
   "outputs": [],
   "source": [
    "# def clustering(\n",
    "#     items,\n",
    "#     n_clusters=27, \n",
    "#     init='k-means++', \n",
    "#     max_iter=300, \n",
    "#     random_state=42\n",
    "# ):\n",
    "#     \"\"\" Clustering data \"\"\"\n",
    "#     kmeans = KMeans()\n",
    "#     kmeans.fit(items)\n",
    "#     return kmeans.labels_\n",
    "\n",
    "# def get_clu_tag_item(df):\n",
    "#     \"\"\"clustering tag and item\"\"\"\n",
    "#     new_df = df.copy()\n",
    "#     new_df[\"clu_tag_item\"]=clustering(new_df[[\"KnowledgeTag\",\"first3\",\"testAnswerRate\"]])\n",
    "#     print(new_df[\"clu_tag_item\"])\n",
    "#     return new_df\n",
    "    \n",
    "_train, _test = load_data(IS_CUSTOM=IS_CUSTOM)\n",
    "entire_data = get_entire_data(_train, _test)\n",
    "df = get_features(entire_data).drop(DROPS, axis=1)\n",
    "train, valid, test = split_train_valid_test_categorical(df)\n",
    "if not USE_VALID:\n",
    "    train = pd.concat([train,valid])\n",
    "    valid = valid.drop([val for val in valid.index], axis=0)"
   ]
  },
  {
   "cell_type": "code",
   "execution_count": 12,
   "metadata": {},
   "outputs": [],
   "source": [
    "x_train = train.drop([\"answerCode\"], axis=1)\n",
    "y_train = train[\"answerCode\"]\n",
    "x_valid = valid.drop([\"answerCode\"], axis=1)\n",
    "y_valid = valid[\"answerCode\"]"
   ]
  },
  {
   "cell_type": "markdown",
   "metadata": {},
   "source": [
    "# CTB preprocessing"
   ]
  },
  {
   "cell_type": "code",
   "execution_count": 13,
   "metadata": {},
   "outputs": [
    {
     "data": {
      "text/plain": [
       "['itemSolvedLen',\n",
       " 'month',\n",
       " 'hour',\n",
       " 'first3',\n",
       " 'mid3',\n",
       " 'last3',\n",
       " 'timeConcentrationRate',\n",
       " 'timeConcentrationCount',\n",
       " 'timeConcentrationLevel',\n",
       " 'monthAnswerRate',\n",
       " 'monthSolvedCount']"
      ]
     },
     "execution_count": 13,
     "metadata": {},
     "output_type": "execute_result"
    }
   ],
   "source": [
    "def ctb_preprocessing(data):\n",
    "    for col in data.columns:\n",
    "        data[col] = data[col].astype(str).fillna(\"-1\")\n",
    "    return data\n",
    "\n",
    "\n",
    "x_train = ctb_preprocessing(x_train)\n",
    "x_valid = ctb_preprocessing(x_valid)\n",
    "test = ctb_preprocessing(test)\n",
    "cat_features = x_train.columns[x_train.nunique()<200].to_list()\n",
    "cat_features\n"
   ]
  },
  {
   "cell_type": "markdown",
   "metadata": {},
   "source": [
    "# CatBoostRegressor"
   ]
  },
  {
   "cell_type": "code",
   "execution_count": 14,
   "metadata": {},
   "outputs": [],
   "source": [
    "model = CatBoostClassifier(cat_features=cat_features, task_type=\"GPU\", leaf_estimation_iterations=10, od_type=\"Iter\", logging_level=\"Silent\")\n",
    "\n",
    "if USE_VALID:\n",
    "    model = CatBoostClassifier(cat_features=cat_features, task_type=\"GPU\", use_best_model=True, leaf_estimation_iterations=10, od_type=\"Iter\", logging_level=\"Silent\", early_stopping_rounds=100)\n",
    "\n",
    "n_splits=5\n",
    "f1 = []\n",
    "predict = None\n",
    "param_grid = {\n",
    "        'iterations': [500],\n",
    "        'depth': [5],\n",
    "        'learning_rate': [0.01],\n",
    "        # 'custom_loss': ['TotalF1'],\n",
    "        # 'eval_metric': ['TotalF1'],\n",
    "        # 'random_seed': [1234],\n",
    "        # 'min_data_in_leaf': [4],\n",
    "        # 'max_leaves': [200],\n",
    "        # 'l2_leaf_reg': [100],\n",
    "        # 'border_count': [100],\n",
    "        # 'bagging_temperature': [500],\n",
    "}\n",
    "# cv = StratifiedKFold(n_splits=n_splits, shuffle=True, random_state=42)\n",
    "cv = KFold(n_splits=6, random_state=42, shuffle=True)\n",
    "\n",
    "gcv = GridSearchCV(\n",
    "    model,\n",
    "    param_grid=param_grid,\n",
    "    cv=cv,\n",
    "    scoring=\"roc_auc\",\n",
    "    n_jobs=1,\n",
    "    pre_dispatch=8,\n",
    "    verbose=1,\n",
    ")"
   ]
  },
  {
   "cell_type": "code",
   "execution_count": 15,
   "metadata": {},
   "outputs": [
    {
     "name": "stdout",
     "output_type": "stream",
     "text": [
      "Fitting 6 folds for each of 1 candidates, totalling 6 fits\n"
     ]
    },
    {
     "data": {
      "application/vnd.jupyter.widget-view+json": {
       "model_id": "442e36f469f44ef691bc3551c0b8ea85",
       "version_major": 2,
       "version_minor": 0
      },
      "text/plain": [
       "MetricVisualizer(layout=Layout(align_self='stretch', height='500px'))"
      ]
     },
     "metadata": {},
     "output_type": "display_data"
    },
    {
     "data": {
      "application/vnd.jupyter.widget-view+json": {
       "model_id": "cc5bc55f5c974fe297a7904443000a8a",
       "version_major": 2,
       "version_minor": 0
      },
      "text/plain": [
       "MetricVisualizer(layout=Layout(align_self='stretch', height='500px'))"
      ]
     },
     "metadata": {},
     "output_type": "display_data"
    },
    {
     "data": {
      "application/vnd.jupyter.widget-view+json": {
       "model_id": "9b3fe673f1a54a359de7412e260996bd",
       "version_major": 2,
       "version_minor": 0
      },
      "text/plain": [
       "MetricVisualizer(layout=Layout(align_self='stretch', height='500px'))"
      ]
     },
     "metadata": {},
     "output_type": "display_data"
    },
    {
     "data": {
      "application/vnd.jupyter.widget-view+json": {
       "model_id": "0765e8ee70f046588eb20b2b7188b282",
       "version_major": 2,
       "version_minor": 0
      },
      "text/plain": [
       "MetricVisualizer(layout=Layout(align_self='stretch', height='500px'))"
      ]
     },
     "metadata": {},
     "output_type": "display_data"
    },
    {
     "data": {
      "application/vnd.jupyter.widget-view+json": {
       "model_id": "a82179620836408eb6f28489483b998b",
       "version_major": 2,
       "version_minor": 0
      },
      "text/plain": [
       "MetricVisualizer(layout=Layout(align_self='stretch', height='500px'))"
      ]
     },
     "metadata": {},
     "output_type": "display_data"
    },
    {
     "data": {
      "application/vnd.jupyter.widget-view+json": {
       "model_id": "faa48343bfaf4885b04e5bf91e65ff3f",
       "version_major": 2,
       "version_minor": 0
      },
      "text/plain": [
       "MetricVisualizer(layout=Layout(align_self='stretch', height='500px'))"
      ]
     },
     "metadata": {},
     "output_type": "display_data"
    },
    {
     "data": {
      "application/vnd.jupyter.widget-view+json": {
       "model_id": "b00d41a57aa94ab1b77a6b6a69de86b6",
       "version_major": 2,
       "version_minor": 0
      },
      "text/plain": [
       "MetricVisualizer(layout=Layout(align_self='stretch', height='500px'))"
      ]
     },
     "metadata": {},
     "output_type": "display_data"
    },
    {
     "name": "stdout",
     "output_type": "stream",
     "text": [
      "final params {'depth': 5, 'iterations': 500, 'learning_rate': 0.01}\n",
      "best score 0.7966848336604765\n"
     ]
    }
   ],
   "source": [
    "if USE_VALID:\n",
    "    gcv.fit(x_train, y_train, plot=True,eval_set=[(x_valid, y_valid)], verbose=True)\n",
    "else:\n",
    "    gcv.fit(x_train, y_train, plot=True,verbose=True)\n",
    "\n",
    "print(\"final params\", gcv.best_params_)\n",
    "print(\"best score\", gcv.best_score_)"
   ]
  },
  {
   "cell_type": "code",
   "execution_count": 16,
   "metadata": {},
   "outputs": [
    {
     "name": "stdout",
     "output_type": "stream",
     "text": [
      "writing prediction : ./output/CTB_C_grid_kfold_custom_submission_2022-11-25_16:17:22.csv\n"
     ]
    }
   ],
   "source": [
    "# SAVE OUTPUT\n",
    "model = gcv.best_estimator_\n",
    "sub = pd.read_csv(\"/opt/ml/input/data/sample_submission.csv\")\n",
    "sub[\"prediction\"] = model.predict(test.drop(\"answerCode\", axis=1))\n",
    "\n",
    "output_dir = \"./output/\"\n",
    "now = datetime.now()\n",
    "now_str = \"{:%Y-%m-%d_%H:%M:%S}\".format(now)\n",
    "file_name = f\"CTB_C_grid_kfold_custom_submission_{now_str}.csv\"\n",
    "write_path = os.path.join(output_dir, file_name)\n",
    "if not os.path.exists(output_dir):\n",
    "    os.makedirs(output_dir)\n",
    "with open(write_path, \"w\", encoding=\"utf8\") as w:\n",
    "    print(\"writing prediction : {}\".format(write_path))\n",
    "    w.write(\"id,prediction\\n\")\n",
    "    for id, p in enumerate(sub[\"prediction\"]):\n",
    "        w.write(\"{},{}\\n\".format(id, p))"
   ]
  },
  {
   "cell_type": "code",
   "execution_count": 17,
   "metadata": {},
   "outputs": [],
   "source": [
    "def get_accuracy(PRED_PATH=file_name):\n",
    "    threshold = 0.5\n",
    "    ANSWER_PATH = \"../../data/custom_answer.csv\"\n",
    "\n",
    "    submission_result = pd.read_csv(PRED_PATH)\n",
    "    answer = pd.read_csv(ANSWER_PATH)\n",
    "\n",
    "    y_pred, y = submission_result[\"prediction\"], answer[\"prediction\"]\n",
    "\n",
    "    return f\"accuracy_score: {accuracy_score(y,y_pred.apply(lambda x: 1 if x > threshold else 0))}\\nroc  auc_score: {roc_auc_score(y,y_pred)}\""
   ]
  },
  {
   "cell_type": "code",
   "execution_count": 18,
   "metadata": {},
   "outputs": [
    {
     "name": "stdout",
     "output_type": "stream",
     "text": [
      "accuracy_score: 0.7056451612903226\n",
      "roc  auc_score: 0.6946775125637331\n"
     ]
    }
   ],
   "source": [
    "if IS_CUSTOM:\n",
    "    print(get_accuracy(\"output/\" + file_name))\n"
   ]
  },
  {
   "cell_type": "code",
   "execution_count": 19,
   "metadata": {},
   "outputs": [
    {
     "data": {
      "image/png": "[encoded data removed]",
      "text/plain": [
       "<Figure size 800x600 with 1 Axes>"
      ]
     },
     "metadata": {},
     "output_type": "display_data"
    }
   ],
   "source": [
    "ft_importance_values = model.feature_importances_\n",
    "\n",
    "# 정렬과 시각화를 쉽게 하기 위해 series 전환\n",
    "ft_series = pd.Series(ft_importance_values, index = x_train.columns)\n",
    "ft_top20 = ft_series.sort_values(ascending=False)[:20]\n",
    "\n",
    "# 시각화\n",
    "plt.figure(figsize=(8,6))\n",
    "plt.title('Feature Importance Top 20')\n",
    "sns.barplot(x=ft_top20, y=ft_top20.index)\n",
    "plt.show()"
   ]
  },
  {
   "cell_type": "code",
   "execution_count": 20,
   "metadata": {},
   "outputs": [
    {
     "data": {
      "text/plain": [
       "'CTB_C_grid_kfold_custom_submission_2022-11-25_16:17:22.csv'"
      ]
     },
     "execution_count": 20,
     "metadata": {},
     "output_type": "execute_result"
    }
   ],
   "source": [
    "file_name"
   ]
  },
  {
   "cell_type": "code",
   "execution_count": null,
   "metadata": {},
   "outputs": [],
   "source": []
  }
 ],
 "metadata": {
  "kernelspec": {
   "display_name": "Python 3.10.8 ('ctb')",
   "language": "python",
   "name": "python3"
  },
  "language_info": {
   "codemirror_mode": {
    "name": "ipython",
    "version": 3
   },
   "file_extension": ".py",
   "mimetype": "text/x-python",
   "name": "python",
   "nbconvert_exporter": "python",
   "pygments_lexer": "ipython3",
   "version": "3.10.8"
  },
  "orig_nbformat": 4,
  "vscode": {
   "interpreter": {
    "hash": "885102bafdf43bd5dceef5292f7e879663b56712805a9bd44c97377f562c6393"
   }
  }
 },
 "nbformat": 4,
 "nbformat_minor": 2
}
