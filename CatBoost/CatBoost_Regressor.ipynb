{
 "cells": [
  {
   "cell_type": "code",
   "execution_count": 1,
   "metadata": {},
   "outputs": [],
   "source": [
    "# import packages\n",
    "import pandas as pd\n",
    "import numpy as np\n",
    "import warnings\n",
    "import random\n",
    "import os\n",
    "warnings.filterwarnings(action=\"ignore\")\n",
    "\n",
    "from catboost import CatBoostRegressor, CatBoostClassifier, Pool\n",
    "\n",
    "import seaborn as sns\n",
    "import matplotlib.pyplot as plt\n",
    "\n",
    "from sklearn.metrics import roc_auc_score\n",
    "from sklearn.metrics import accuracy_score\n",
    "from sklearn import preprocessing\n",
    "\n",
    "from sklearn.inspection import permutation_importance\n",
    "\n",
    "# output csv에 시간 지정해주기 위함\n",
    "from datetime import datetime\n",
    "\n",
    "import sys\n",
    "sys.path.append(\"../\")\n",
    "from feature_engineering import *\n",
    "\n",
    "# 시간이 오래 걸리는 부분들에 대한 연산 시간 구하기 위함\n",
    "import time"
   ]
  },
  {
   "cell_type": "markdown",
   "metadata": {},
   "source": [
    "### train_test_split_mode_1 / train_test_split_mode_2\n",
    "docstring 부분을 참고해주세요!"
   ]
  },
  {
   "cell_type": "code",
   "execution_count": 2,
   "metadata": {},
   "outputs": [],
   "source": [
    "\"\"\"\n",
    "train_test_split_mode_1:\n",
    "    train: train data * ratio\n",
    "    valid: train data * (1 - ratio)\n",
    "\"\"\"\n",
    "# train과 valid 데이터셋은 사용자 별로 묶어서 분리를 해주어야함\n",
    "random.seed(42)\n",
    "def train_test_split_mode_1(df:pd.DataFrame, ratio=0.8, split=True):\n",
    "    users = list(zip(df[\"userID\"].value_counts().index, df[\"userID\"].value_counts()))\n",
    "    random.shuffle(users)\n",
    "    \n",
    "    max_train_data_len = ratio * len(df)\n",
    "    sum_of_train_data = 0\n",
    "    user_ids =[]\n",
    "\n",
    "    for user_id, count in users:\n",
    "        sum_of_train_data += count\n",
    "        if max_train_data_len < sum_of_train_data:\n",
    "            break\n",
    "        user_ids.append(user_id)\n",
    "\n",
    "    train = df[df[\"userID\"].isin(user_ids)]\n",
    "    valid = df[df[\"userID\"].isin(user_ids) == False]\n",
    "\n",
    "    #valid데이터셋은 각 유저의 마지막 interaction만 추출\n",
    "    valid = valid[valid[\"userID\"] != valid[\"userID\"].shift(-1)]\n",
    "    return train, valid"
   ]
  },
  {
   "cell_type": "code",
   "execution_count": 3,
   "metadata": {},
   "outputs": [],
   "source": [
    "\"\"\"\n",
    "train_test_split_mode_2:\n",
    "    train: train data\n",
    "    valid: test data에서 마지막에서 두번째 데이터까지 사용\n",
    "\"\"\"\n",
    "def train_test_split_mode_2(train_df:pd.DataFrame, test_df:pd.DataFrame):\n",
    "    valid = test_df[test_df[\"answerCode\"] != -1]\n",
    "    valid = valid[valid[\"userID\"] != valid[\"userID\"].shift(-1)]\n",
    "    return train_df, test_df, valid"
   ]
  },
  {
   "cell_type": "code",
   "execution_count": 4,
   "metadata": {},
   "outputs": [],
   "source": [
    "def feature_engineering(df):\n",
    "    # 유저별 시퀀스를 고려하기 위해 아래와 같이 정렬\n",
    "    # 유저별로 정렬하고 시간순으로 정렬\n",
    "    df.sort_values(by=[\"userID\",\"Timestamp\"], inplace=True)\n",
    "\n",
    "    # 유저들의 문제 풀이수, 정답 수, 정답률을 시간순으로 누적해서 계산\n",
    "    \"\"\"\n",
    "    \"user_correct_answer\":\n",
    "        유저별로 해당 문제를 풀기 전까지 정답을 맞힌 문제 수\n",
    "    \"user_total_answer\":\n",
    "        유저별로 해당 문제를 풀기 전까지 푼 문제 수\n",
    "    \"user_acc\":\n",
    "        유저별로 해당 문제를 풀기 전까지의 정답률\n",
    "    \"\"\"\n",
    "    df[\"user_correct_answer\"] = df.groupby(\"userID\")[\"answerCode\"].transform(lambda x: x.cumsum().shift(1))\n",
    "    df[\"user_total_answer\"] = df.groupby(\"userID\")[\"answerCode\"].cumcount()\n",
    "    df[\"user_acc\"] = df[\"user_correct_answer\"]/df[\"user_total_answer\"]\n",
    "\n",
    "    # testId와 KnowledgeTag의 전체 정답률은 한번에 계산\n",
    "    # 아래 데이터는 제출용 데이터셋에 대해서도 재사용\n",
    "    \"\"\"\n",
    "    \"test_mean\":\n",
    "        특정 시험의 평균 정답 수\n",
    "    \"test_sum\":\n",
    "        푼 시험의 총 정답 수\n",
    "    \"\"\"\n",
    "    correct_t = df.groupby([\"testId\"])[\"answerCode\"].agg([\"mean\", \"sum\"])\n",
    "    correct_t.columns = [\"test_mean\", \"test_sum\"]\n",
    "    \"\"\"\n",
    "    \"tag_mean\":\n",
    "        특정 태그의 평균 정답 수\n",
    "    \"tag_sum\":\n",
    "        푼 태그의 총 정답 수\n",
    "    \"\"\"\n",
    "    correct_k = df.groupby([\"KnowledgeTag\"])[\"answerCode\"].agg([\"mean\", \"sum\"])\n",
    "    correct_k.columns = [\"tag_mean\", \"tag_sum\"]\n",
    "\n",
    "    df = pd.merge(df, correct_t, on=[\"testId\"], how=\"left\")\n",
    "    df = pd.merge(df, correct_k, on=[\"KnowledgeTag\"], how=\"left\")\n",
    "    \n",
    "    # 첫 세 자리 feature 추가하는 코드\n",
    "    df2 = df.copy()\n",
    "    df2[\"first_3\"] = df[\"assessmentItemID\"].str[1:4].to_frame()\n",
    "    df2 = df2[[\"testId\",\"first_3\"]].drop_duplicates([\"testId\"])\n",
    "    df = pd.merge(df, df2, on=\"testId\", how=\"left\")\n",
    "    \n",
    "    df = split_time(df)\n",
    "    df = get_time_concentration(df)\n",
    "    df = get_seoson_concentration(df)\n",
    "    \n",
    "    # 카테고리형 feature\n",
    "# 여기에 범주형 feature들 이름을 추가해주세요!\n",
    "    categories = [\n",
    "                \"KnowledgeTag\",\n",
    "                \"first_3\", \n",
    "                \"year\",\n",
    "                \"month\", \n",
    "                \"day\",\n",
    "                \"hour\",\n",
    "                \"minute\",\n",
    "                \"second\",\n",
    "                \"timeConcentrationCount\",\n",
    "                \"timeConcentrationLevel\",\n",
    "                \"monthSolvedCount\"\n",
    "                ]\n",
    "    # 카테고리형 feature들에 label encoding 수행하는 작업\n",
    "    le = preprocessing.LabelEncoder()\n",
    "    for category in categories:\n",
    "        if category in df.columns and df[category].dtypes != \"int\":\n",
    "                df[category] = le.fit_transform(df[category])\n",
    "                df[category] = df[category].astype(\"category\")\n",
    "    return df"
   ]
  },
  {
   "cell_type": "code",
   "execution_count": 5,
   "metadata": {},
   "outputs": [
    {
     "name": "stdout",
     "output_type": "stream",
     "text": [
      "elapsed:  2.989 sec\n"
     ]
    }
   ],
   "source": [
    "start_time = time.time()\n",
    "\n",
    "data_dir = \"/opt/ml/input/data/\"\n",
    "\n",
    "train_data = pd.read_csv(os.path.join(data_dir, \"train_data.csv\"))\n",
    "test_data = pd.read_csv(os.path.join(data_dir, \"test_data.csv\"))\n",
    "\n",
    "print(f\"elapsed: {time.time() - start_time: .3f} sec\")"
   ]
  },
  {
   "cell_type": "code",
   "execution_count": 6,
   "metadata": {},
   "outputs": [
    {
     "name": "stdout",
     "output_type": "stream",
     "text": [
      "train_data preprocessing elapsed:  57.725 sec\n",
      "test_data preprocessing elapsed:  4.063 sec\n"
     ]
    }
   ],
   "source": [
    "# 유저별 sequence로 다루기 위해 아래와 같이 정렬\n",
    "# 전처리 및 feature_engineering 이후에 sort 실행\n",
    "\n",
    "start_time = time.time()\n",
    "train_data = feature_engineering(train_data)\n",
    "train_data.sort_values(by=[\"userID\", \"Timestamp\"], inplace=True)\n",
    "print(f\"train_data preprocessing elapsed: {time.time() - start_time: .3f} sec\")\n",
    "\n",
    "start_time = time.time()\n",
    "test_data = feature_engineering(test_data)\n",
    "test_data.sort_values(by=[\"userID\", \"Timestamp\"], inplace=True)\n",
    "print(f\"test_data preprocessing elapsed: {time.time() - start_time: .3f} sec\")"
   ]
  },
  {
   "cell_type": "code",
   "execution_count": 7,
   "metadata": {},
   "outputs": [
    {
     "name": "stdout",
     "output_type": "stream",
     "text": [
      "elapsed:  0.672 sec\n"
     ]
    }
   ],
   "source": [
    "# 사용할 Feature 설정\n",
    "# 캐글 솔루션에서 이렇게 feature 많을 때 Enter키로 구분하는데 보기가 편해서 적용했어요\n",
    "# (나중에 지우고 싶으면 바로 주석 처리해서 지워도 되서 좋은 듯)\n",
    "FEATS = [\n",
    "        #  \"KnowledgeTag\",\n",
    "         \"user_correct_answer\",\n",
    "         \"user_total_answer\",\n",
    "         \"user_acc\",\n",
    "         \"test_mean\",\n",
    "        #  \"test_sum\",\n",
    "         \"tag_mean\", \n",
    "         \"tag_sum\",\n",
    "         \"first_3\", \n",
    "        #  \"year\",\n",
    "         \"month\", \n",
    "        #  \"day\",\n",
    "        #  \"hour\",\n",
    "        #  \"minute\",\n",
    "        #  \"second\",\n",
    "         \"timeConcentrationRate\",\n",
    "        #  \"timeConcentrationCount\",\n",
    "         \"timeConcentrationLevel\",\n",
    "         \"monthAnswerRate\",\n",
    "        #  \"monthSolvedCount\"\n",
    "         ]\n",
    "########################################################### 여기서 모드 변경해주세요 ###########################################################\n",
    "train_test_split_mode = 1\n",
    "\n",
    "\"\"\"\n",
    "train_test_split_mode_1:\n",
    "    train: train data * ratio\n",
    "    valid: train data * (1 - ratio)\n",
    "\n",
    "train_test_split_mode_2:\n",
    "    train: train data\n",
    "    valid: test data에서 마지막에서 두번째 데이터까지 사용\n",
    "\"\"\"\n",
    "start_time = time.time()\n",
    "\n",
    "if train_test_split_mode == 1:\n",
    "    train, valid = train_test_split_mode_1(train_data)\n",
    "    \n",
    "    X_train = train.drop([\"answerCode\"], axis=1)\n",
    "    y_train = train[\"answerCode\"]\n",
    "\n",
    "    X_valid = valid.drop([\"answerCode\"], axis=1)\n",
    "    y_valid = valid[\"answerCode\"]\n",
    "\n",
    "else:\n",
    "    train, test, valid = train_test_split_mode_2(train_data, test_data)\n",
    "    X_train = train.drop([\"answerCode\"], axis=1)\n",
    "    y_train = train[\"answerCode\"]\n",
    "\n",
    "    X_valid = valid.drop([\"answerCode\"], axis=1)\n",
    "    y_valid = valid[\"answerCode\"]\n",
    "    \n",
    "print(f\"elapsed: {time.time() - start_time: .3f} sec\")"
   ]
  },
  {
   "cell_type": "code",
   "execution_count": 8,
   "metadata": {},
   "outputs": [
    {
     "data": {
      "text/plain": [
       "['first_3', 'month']"
      ]
     },
     "execution_count": 8,
     "metadata": {},
     "output_type": "execute_result"
    }
   ],
   "source": [
    "cat_features = train[FEATS].columns[train[FEATS].dtypes == \"category\"].to_list()\n",
    "cat_features"
   ]
  },
  {
   "cell_type": "markdown",
   "metadata": {},
   "source": [
    "### CatBoostRegressor"
   ]
  },
  {
   "cell_type": "code",
   "execution_count": 9,
   "metadata": {},
   "outputs": [
    {
     "name": "stdout",
     "output_type": "stream",
     "text": [
      "VALID AUC : 0.6897224306076519 ACC : 0.5788304959289415\n",
      "\n",
      "elapsed:  38.716\n"
     ]
    }
   ],
   "source": [
    "start_time = time.time()\n",
    "\n",
    "# CatBoostRegressor 사용\n",
    "params = {\n",
    "    \"iterations\": 150,\n",
    "    \"learning_rate\": 0.1,  # 0.1\n",
    "    \"eval_metric\": \"AUC\",\n",
    "    \"random_seed\": 42,\n",
    "    \"logging_level\": \"Silent\", # 매 epoch마다 로그를 찍고 싶으면 \"logging_level\": \"Verbose\"로 변경\n",
    "    \"early_stopping_rounds\": 100,\n",
    "    \"task_type\": \"GPU\",\n",
    "    'depth':12\n",
    "}\n",
    "\n",
    "model = CatBoostRegressor(\n",
    "    **params,\n",
    "    cat_features=cat_features,\n",
    "    allow_writing_files=False,\n",
    ")\n",
    "\n",
    "model.fit(\n",
    "    train[FEATS],\n",
    "    y_train,\n",
    "    eval_set=[(valid[FEATS], y_valid)],\n",
    "    # plot=True, # plot 찍고 싶으면 주석 제거\n",
    ")\n",
    "\n",
    "preds = model.predict(valid[FEATS])\n",
    "acc = accuracy_score(y_valid, np.where(preds >= 0.5, 1, 0))\n",
    "auc = roc_auc_score(y_valid, preds)\n",
    "\n",
    "print(f\"VALID AUC : {auc} ACC : {acc}\\n\")\n",
    "\n",
    "print(f\"elapsed: {time.time() - start_time: .3f}\")"
   ]
  },
  {
   "cell_type": "code",
   "execution_count": 10,
   "metadata": {},
   "outputs": [
    {
     "name": "stdout",
     "output_type": "stream",
     "text": [
      "elapsed:  1.725 sec\n"
     ]
    },
    {
     "data": {
      "image/png": "[encoded data removed]",
      "text/plain": [
       "<Figure size 1200x600 with 1 Axes>"
      ]
     },
     "metadata": {},
     "output_type": "display_data"
    }
   ],
   "source": [
    "start_time = time.time()\n",
    "\n",
    "result = permutation_importance(model, X_valid[FEATS], y_valid, scoring = \"roc_auc\", n_repeats=30, random_state=42)\n",
    "sorted_result = result.importances_mean.argsort()\n",
    "fig = plt.figure(figsize=(12, 6))\n",
    "plt.barh(range(len(FEATS)), result.importances_mean[sorted_result], align=\"center\")\n",
    "plt.yticks(range(len(FEATS)), np.array(FEATS)[sorted_result])\n",
    "plt.title(\"permutation_importance\")\n",
    "\n",
    "print(f\"elapsed: {time.time() - start_time: .3f} sec\")"
   ]
  },
  {
   "cell_type": "code",
   "execution_count": 11,
   "metadata": {},
   "outputs": [
    {
     "name": "stdout",
     "output_type": "stream",
     "text": [
      "elapsed:  0.041 sec\n"
     ]
    },
    {
     "data": {
      "image/png": "[encoded data removed]",
      "text/plain": [
       "<Figure size 1200x600 with 1 Axes>"
      ]
     },
     "metadata": {},
     "output_type": "display_data"
    }
   ],
   "source": [
    "start_time = time.time()\n",
    "\n",
    "feature_importance = model.feature_importances_\n",
    "sorted_idx = np.argsort(feature_importance)\n",
    "fig = plt.figure(figsize=(12, 6))\n",
    "plt.barh(range(len(sorted_idx)), feature_importance[sorted_idx], align=\"center\")\n",
    "plt.yticks(range(len(sorted_idx)), np.array(FEATS)[sorted_idx])\n",
    "plt.title(\"Feature Importance\")\n",
    "\n",
    "print(f\"elapsed: {time.time() - start_time: .3f} sec\")"
   ]
  },
  {
   "cell_type": "code",
   "execution_count": 12,
   "metadata": {},
   "outputs": [
    {
     "name": "stdout",
     "output_type": "stream",
     "text": [
      "TEST AUC : 0.7155000256029495 ACC : 0.6545698924731183\n",
      "elapsed:  0.045 sec\n"
     ]
    }
   ],
   "source": [
    "start_time = time.time()\n",
    "\n",
    "test_data = test_data[test_data.answerCode != -1]  # -1 인 answerCode 제외\n",
    "\n",
    "# test데이터셋은 각 유저의 마지막 interaction만 추출\n",
    "test_data = test_data[test_data[\"userID\"] != test_data[\"userID\"].shift(-1)]\n",
    "\n",
    "y_test = test_data[\"answerCode\"]\n",
    "X_test = test_data.drop([\"answerCode\"], axis=1)\n",
    "\n",
    "preds = model.predict(X_test[FEATS])\n",
    "acc = accuracy_score(y_test, np.where(preds >= 0.5, 1, 0))\n",
    "auc = roc_auc_score(y_test, preds)\n",
    "print(f\"TEST AUC : {auc} ACC : {acc}\")\n",
    "\n",
    "print(f\"elapsed: {time.time() - start_time: .3f} sec\")"
   ]
  },
  {
   "cell_type": "code",
   "execution_count": 13,
   "metadata": {},
   "outputs": [
    {
     "name": "stdout",
     "output_type": "stream",
     "text": [
      "elapsed:  0.007 sec\n"
     ]
    }
   ],
   "source": [
    "start_time = time.time()\n",
    "\n",
    "test_data = test_data[test_data[\"userID\"] != test_data[\"userID\"].shift(-1)]\n",
    "test_data = test_data.drop([\"answerCode\"], axis=1)\n",
    "total_preds = model.predict(X_test[FEATS])\n",
    "\n",
    "print(f\"elapsed: {time.time() - start_time: .3f} sec\")"
   ]
  },
  {
   "cell_type": "code",
   "execution_count": 14,
   "metadata": {},
   "outputs": [
    {
     "name": "stdout",
     "output_type": "stream",
     "text": [
      "writing prediction : /opt/ml/input/CatBoost_output/CatBoost_submission_143902.csv\n"
     ]
    }
   ],
   "source": [
    "# SAVE OUTPUT\n",
    "output_dir = \"/opt/ml/input/CatBoost_output\"\n",
    "write_path = os.path.join(output_dir, f\"CatBoost_submission_{datetime.now().microsecond}.csv\")\n",
    "if not os.path.exists(output_dir):\n",
    "    os.makedirs(output_dir)\n",
    "with open(write_path, \"w\", encoding=\"utf8\") as w:\n",
    "    print(\"writing prediction : {}\".format(write_path))\n",
    "    w.write(\"id,prediction\\n\")\n",
    "    for id, p in enumerate(total_preds):\n",
    "        w.write(\"{},{}\\n\".format(id, p))"
   ]
  },
  {
   "cell_type": "code",
   "execution_count": null,
   "metadata": {},
   "outputs": [],
   "source": []
  }
 ],
 "metadata": {
  "kernelspec": {
   "display_name": "Python 3.6.9 64-bit",
   "language": "python",
   "name": "python3"
  },
  "language_info": {
   "codemirror_mode": {
    "name": "ipython",
    "version": 3
   },
   "file_extension": ".py",
   "mimetype": "text/x-python",
   "name": "python",
   "nbconvert_exporter": "python",
   "pygments_lexer": "ipython3",
   "version": "3.6.9"
  },
  "orig_nbformat": 4,
  "vscode": {
   "interpreter": {
    "hash": "31f2aee4e71d21fbe5cf8b01ff0e069b9275f58929596ceb00d14d90e3e16cd6"
   }
  }
 },
 "nbformat": 4,
 "nbformat_minor": 2
}
