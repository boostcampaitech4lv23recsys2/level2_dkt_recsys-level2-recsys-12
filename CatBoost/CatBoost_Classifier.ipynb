{
 "cells": [
  {
   "cell_type": "code",
   "execution_count": 29,
   "metadata": {},
   "outputs": [],
   "source": [
    "# import packages\n",
    "import pandas as pd\n",
    "import numpy as np\n",
    "import warnings\n",
    "import random\n",
    "import os\n",
    "warnings.filterwarnings(action=\"ignore\")\n",
    "\n",
    "from catboost import CatBoostRegressor, CatBoostClassifier, Pool\n",
    "\n",
    "import seaborn as sns\n",
    "import matplotlib.pyplot as plt\n",
    "\n",
    "from sklearn.metrics import roc_auc_score\n",
    "from sklearn.metrics import accuracy_score\n",
    "from sklearn import preprocessing\n",
    "\n",
    "from sklearn.inspection import permutation_importance\n",
    "\n",
    "# output csv에 시간 지정해주기 위함\n",
    "from datetime import datetime"
   ]
  },
  {
   "cell_type": "code",
   "execution_count": 30,
   "metadata": {},
   "outputs": [],
   "source": [
    "data_dir = \"/opt/ml/input/data/\"\n",
    "\n",
    "train_data = pd.read_csv(os.path.join(data_dir, \"train_data.csv\"))\n",
    "test_data = pd.read_csv(os.path.join(data_dir, \"test_data.csv\"))\n",
    "\n",
    "# 유저별 sequence로 다루기 위해 아래와 같이 정렬\n",
    "train_data.sort_values(by=[\"userID\", \"Timestamp\"], inplace=True)\n",
    "test_data.sort_values(by=[\"userID\", \"Timestamp\"], inplace=True)"
   ]
  },
  {
   "cell_type": "markdown",
   "metadata": {},
   "source": [
    "### train_test_split_mode_1 / train_test_split_mode_2\n",
    "docstring 부분을 참고해주세요!"
   ]
  },
  {
   "cell_type": "code",
   "execution_count": 31,
   "metadata": {},
   "outputs": [],
   "source": [
    "\"\"\"\n",
    "train_test_split_mode_1:\n",
    "    train: train data * ratio\n",
    "    valid: train data * (1 - ratio)\n",
    "\"\"\"\n",
    "# train과 valid 데이터셋은 사용자 별로 묶어서 분리를 해주어야함\n",
    "random.seed(42)\n",
    "def train_test_split_mode_1(df:pd.DataFrame, ratio=0.8, split=True):\n",
    "    users = list(zip(df[\"userID\"].value_counts().index, df[\"userID\"].value_counts()))\n",
    "    random.shuffle(users)\n",
    "    \n",
    "    max_train_data_len = ratio * len(df)\n",
    "    sum_of_train_data = 0\n",
    "    user_ids =[]\n",
    "\n",
    "    for user_id, count in users:\n",
    "        sum_of_train_data += count\n",
    "        if max_train_data_len < sum_of_train_data:\n",
    "            break\n",
    "        user_ids.append(user_id)\n",
    "\n",
    "    train = df[df[\"userID\"].isin(user_ids)]\n",
    "    valid = df[df[\"userID\"].isin(user_ids) == False]\n",
    "\n",
    "    #valid데이터셋은 각 유저의 마지막 interaction만 추출\n",
    "    valid = valid[valid[\"userID\"] != valid[\"userID\"].shift(-1)]\n",
    "    return train, valid"
   ]
  },
  {
   "cell_type": "code",
   "execution_count": 32,
   "metadata": {},
   "outputs": [],
   "source": [
    "\"\"\"\n",
    "train_test_split_mode_2:\n",
    "    train: train data\n",
    "    valid: test data에서 마지막에서 두번째 데이터까지 사용\n",
    "\"\"\"\n",
    "def train_test_split_mode_2(train_df:pd.DataFrame, test_df:pd.DataFrame):\n",
    "    valid = test_df[test_df[\"answerCode\"] != -1]\n",
    "    valid = valid[valid[\"userID\"] != valid[\"userID\"].shift(-1)]\n",
    "    return train_df, test_df, valid"
   ]
  },
  {
   "cell_type": "code",
   "execution_count": 33,
   "metadata": {},
   "outputs": [],
   "source": [
    "def feature_engineering(df):\n",
    "    # 유저별 시퀀스를 고려하기 위해 아래와 같이 정렬\n",
    "    # 유저별로 정렬하고 시간순으로 정렬\n",
    "    df.sort_values(by=[\"userID\",\"Timestamp\"], inplace=True)\n",
    "\n",
    "    # 유저들의 문제 풀이수, 정답 수, 정답률을 시간순으로 누적해서 계산\n",
    "    \"\"\"\n",
    "    \"user_correct_answer\":\n",
    "        유저별로 해당 문제를 풀기 전까지 정답을 맞힌 문제 수\n",
    "    \"user_total_answer\":\n",
    "        유저별로 해당 문제를 풀기 전까지 푼 문제 수\n",
    "    \"user_acc\":\n",
    "        유저별로 해당 문제를 풀기 전까지의 정답률\n",
    "    \"\"\"\n",
    "    df[\"user_correct_answer\"] = df.groupby(\"userID\")[\"answerCode\"].transform(lambda x: x.cumsum().shift(1))\n",
    "    df[\"user_total_answer\"] = df.groupby(\"userID\")[\"answerCode\"].cumcount()\n",
    "    df[\"user_acc\"] = df[\"user_correct_answer\"]/df[\"user_total_answer\"]\n",
    "\n",
    "    # testId와 KnowledgeTag의 전체 정답률은 한번에 계산\n",
    "    # 아래 데이터는 제출용 데이터셋에 대해서도 재사용\n",
    "    \"\"\"\n",
    "    \"test_mean\":\n",
    "        특정 시험의 평균 정답 수\n",
    "    \"test_sum\":\n",
    "        푼 시험의 총 정답 수\n",
    "    \"\"\"\n",
    "    correct_t = df.groupby([\"testId\"])[\"answerCode\"].agg([\"mean\", \"sum\"])\n",
    "    correct_t.columns = [\"test_mean\", \"test_sum\"]\n",
    "    \"\"\"\n",
    "    \"tag_mean\":\n",
    "        특정 태그의 평균 정답 수\n",
    "    \"tag_sum\":\n",
    "        푼 태그의 총 정답 수\n",
    "    \"\"\"\n",
    "    correct_k = df.groupby([\"KnowledgeTag\"])[\"answerCode\"].agg([\"mean\", \"sum\"])\n",
    "    correct_k.columns = [\"tag_mean\", \"tag_sum\"]\n",
    "\n",
    "    df = pd.merge(df, correct_t, on=[\"testId\"], how=\"left\")\n",
    "    df = pd.merge(df, correct_k, on=[\"KnowledgeTag\"], how=\"left\")\n",
    "    \n",
    "    # 첫 세 자리 feature 추가하는 코드\n",
    "    df2 = df.copy()\n",
    "    df2[\"first_3\"] = df[\"assessmentItemID\"].str[1:4].to_frame()\n",
    "    df2 = df2[[\"testId\",\"first_3\"]].drop_duplicates([\"testId\"])\n",
    "    df = pd.merge(df, df2, on=\"testId\", how=\"left\")\n",
    "    \n",
    "    # 카테고리형 feature\n",
    "# 여기에 범주형 feature들 이름을 추가해주세요!\n",
    "    categories = [\"KnowledgeTag\",\n",
    "                  \"first_3\",]\n",
    "    # 카테고리형 feature를 수치형 feature로 변환해주는 작업\n",
    "    le = preprocessing.LabelEncoder()\n",
    "    for category in categories:\n",
    "        if df[category].dtypes != \"int\":\n",
    "            df[category] = le.fit_transform(df[category])\n",
    "        df[category] = df[category].astype(\"category\")\n",
    "    return df"
   ]
  },
  {
   "cell_type": "code",
   "execution_count": 34,
   "metadata": {},
   "outputs": [],
   "source": [
    "train_data = feature_engineering(train_data)\n",
    "test_data = feature_engineering(test_data)"
   ]
  },
  {
   "cell_type": "code",
   "execution_count": 35,
   "metadata": {},
   "outputs": [],
   "source": [
    "# 사용할 Feature 설정\n",
    "# 캐글 솔루션에서 이렇게 feature 많을 때 Enter키로 구분하는데 보기가 편해서 적용했어요\n",
    "# (나중에 지우고 싶으면 바로 주석 처리해서 지워도 되서 좋은 듯)\n",
    "FEATS = ['KnowledgeTag',\n",
    "         'user_correct_answer', \n",
    "         'user_total_answer', \n",
    "         'user_acc', \n",
    "         'test_mean', \n",
    "         'test_sum', \n",
    "         'tag_mean',\n",
    "         'tag_sum', \n",
    "         'first_3']\n",
    "########################################################### 여기서 모드 변경해주세요 ###########################################################\n",
    "train_test_split_mode = 1\n",
    "\n",
    "\"\"\"\n",
    "train_test_split_mode_1:\n",
    "    train: train data * ratio\n",
    "    valid: train data * (1 - ratio)\n",
    "\n",
    "train_test_split_mode_2:\n",
    "    train: train data\n",
    "    valid: test data에서 마지막에서 두번째 데이터까지 사용\n",
    "\"\"\"\n",
    "if train_test_split_mode == 1:\n",
    "    train, valid = train_test_split_mode_1(train_data)\n",
    "    \n",
    "    X_train = train.drop(['answerCode'], axis=1)\n",
    "    y_train = train['answerCode']\n",
    "\n",
    "    X_valid = valid.drop(['answerCode'], axis=1)\n",
    "    y_valid = valid['answerCode']\n",
    "\n",
    "else:\n",
    "    train, test, valid = train_test_split_mode_2(train_data, test_data)\n",
    "    X_train = train.drop(['answerCode'], axis=1)\n",
    "    y_train = train['answerCode']\n",
    "\n",
    "    X_valid = valid.drop(['answerCode'], axis=1)\n",
    "    y_valid = valid['answerCode']"
   ]
  },
  {
   "cell_type": "code",
   "execution_count": 36,
   "metadata": {},
   "outputs": [
    {
     "data": {
      "text/plain": [
       "['KnowledgeTag', 'first_3']"
      ]
     },
     "execution_count": 36,
     "metadata": {},
     "output_type": "execute_result"
    }
   ],
   "source": [
    "cat_features = train[FEATS].columns[train[FEATS].dtypes == \"category\"].to_list()\n",
    "cat_features"
   ]
  },
  {
   "cell_type": "code",
   "execution_count": 37,
   "metadata": {},
   "outputs": [
    {
     "name": "stderr",
     "output_type": "stream",
     "text": [
      "Default metric period is 5 because AUC is/are not implemented for GPU\n"
     ]
    },
    {
     "name": "stdout",
     "output_type": "stream",
     "text": [
      "VALID AUC : 0.6946394104228812 ACC : 0.615840118430792\n",
      "\n"
     ]
    }
   ],
   "source": [
    "# CatBoostClassifier 사용\n",
    "params = {\n",
    "    \"iterations\": 150,\n",
    "    \"learning_rate\": 0.1,\n",
    "    \"eval_metric\": \"AUC\",\n",
    "    \"random_seed\": 42,\n",
    "    \"logging_level\": \"Silent\", # 매 epoch마다 로그를 찍고 싶으면 \"logging_level\": \"Verbose\"로 변경\n",
    "    \"early_stopping_rounds\": 100,\n",
    "    \"task_type\": \"GPU\",\n",
    "    \"depth\":12\n",
    "}\n",
    "\n",
    "model = CatBoostClassifier(\n",
    "    **params,\n",
    "    cat_features=cat_features,\n",
    "    allow_writing_files=False,\n",
    ")\n",
    "\n",
    "model.fit(\n",
    "    X_train[FEATS],\n",
    "    y_train,\n",
    "    eval_set=[(X_valid[FEATS], y_valid)],\n",
    "    # plot=True, # plot 찍고 싶으면 주석 제거\n",
    ")\n",
    "\n",
    "preds = model.predict_proba(X_valid[FEATS])[:,1]\n",
    "acc = accuracy_score(y_valid, np.where(preds >= 0.5, 1, 0))\n",
    "auc = roc_auc_score(y_valid, preds)\n",
    "\n",
    "print(f\"VALID AUC : {auc} ACC : {acc}\\n\")"
   ]
  },
  {
   "cell_type": "code",
   "execution_count": 38,
   "metadata": {},
   "outputs": [
    {
     "data": {
      "text/plain": [
       "Text(0.5, 1.0, 'permutation_importance')"
      ]
     },
     "execution_count": 38,
     "metadata": {},
     "output_type": "execute_result"
    },
    {
     "data": {
      "image/png": "[encoded data removed]",
      "text/plain": [
       "<Figure size 1200x600 with 1 Axes>"
      ]
     },
     "metadata": {},
     "output_type": "display_data"
    }
   ],
   "source": [
    "result = permutation_importance(model, X_valid[FEATS], y_valid, scoring = \"roc_auc\", n_repeats=30, random_state=42)\n",
    "sorted_result = result.importances_mean.argsort()\n",
    "fig = plt.figure(figsize=(12, 6))\n",
    "plt.barh(range(len(FEATS)), result.importances_mean[sorted_result], align=\"center\")\n",
    "plt.yticks(range(len(FEATS)), np.array(FEATS)[sorted_result])\n",
    "plt.title(\"permutation_importance\")"
   ]
  },
  {
   "cell_type": "code",
   "execution_count": 39,
   "metadata": {},
   "outputs": [
    {
     "data": {
      "text/plain": [
       "Text(0.5, 1.0, 'Feature Importance')"
      ]
     },
     "execution_count": 39,
     "metadata": {},
     "output_type": "execute_result"
    },
    {
     "data": {
      "image/png": "[encoded data removed]",
      "text/plain": [
       "<Figure size 1200x600 with 1 Axes>"
      ]
     },
     "metadata": {},
     "output_type": "display_data"
    }
   ],
   "source": [
    "feature_importance = model.feature_importances_\n",
    "sorted_idx = np.argsort(feature_importance)\n",
    "fig = plt.figure(figsize=(12, 6))\n",
    "plt.barh(range(len(sorted_idx)), feature_importance[sorted_idx], align=\"center\")\n",
    "plt.yticks(range(len(sorted_idx)), np.array(FEATS)[sorted_idx])\n",
    "plt.title(\"Feature Importance\")"
   ]
  },
  {
   "cell_type": "code",
   "execution_count": 40,
   "metadata": {},
   "outputs": [
    {
     "name": "stdout",
     "output_type": "stream",
     "text": [
      "VALID AUC : 0.7112682238136689 ACC : 0.6720430107526881\n"
     ]
    }
   ],
   "source": [
    "test_data = test_data[test_data.answerCode != -1]  # -1 인 answerCode 제외\n",
    "\n",
    "# test데이터셋은 각 유저의 마지막 interaction만 추출\n",
    "test_data = test_data[test_data[\"userID\"] != test_data[\"userID\"].shift(-1)]\n",
    "\n",
    "y_test = test_data[\"answerCode\"]\n",
    "X_test = test_data.drop([\"answerCode\"], axis=1)\n",
    "\n",
    "preds = model.predict_proba(X_test[FEATS])[:, 1]\n",
    "acc = accuracy_score(y_test, np.where(preds >= 0.5, 1, 0))\n",
    "auc = roc_auc_score(y_test, preds)\n",
    "\n",
    "print(f\"VALID AUC : {auc} ACC : {acc}\")"
   ]
  },
  {
   "cell_type": "code",
   "execution_count": 41,
   "metadata": {},
   "outputs": [],
   "source": [
    "test_data = test_data[test_data[\"userID\"] != test_data[\"userID\"].shift(-1)]\n",
    "test_data = test_data.drop([\"answerCode\"], axis=1)\n",
    "total_preds = model.predict_proba(X_test[FEATS])[:, 1]"
   ]
  },
  {
   "cell_type": "code",
   "execution_count": 42,
   "metadata": {},
   "outputs": [
    {
     "name": "stdout",
     "output_type": "stream",
     "text": [
      "writing prediction : /opt/ml/input/CatBoost_output/CatBoost_submission_272681.csv\n"
     ]
    }
   ],
   "source": [
    "# SAVE OUTPUT\n",
    "output_dir = \"/opt/ml/input/CatBoost_output\"\n",
    "write_path = os.path.join(output_dir, f\"CatBoost_submission_{datetime.now().microsecond}.csv\")\n",
    "if not os.path.exists(output_dir):\n",
    "    os.makedirs(output_dir)\n",
    "with open(write_path, \"w\", encoding=\"utf8\") as w:\n",
    "    print(\"writing prediction : {}\".format(write_path))\n",
    "    w.write(\"id,prediction\\n\")\n",
    "    for id, p in enumerate(total_preds):\n",
    "        w.write(\"{},{}\\n\".format(id, p))"
   ]
  },
  {
   "cell_type": "code",
   "execution_count": null,
   "metadata": {},
   "outputs": [],
   "source": []
  }
 ],
 "metadata": {
  "kernelspec": {
   "display_name": "Python 3.10.8 ('xgboost')",
   "language": "python",
   "name": "python3"
  },
  "language_info": {
   "codemirror_mode": {
    "name": "ipython",
    "version": 3
   },
   "file_extension": ".py",
   "mimetype": "text/x-python",
   "name": "python",
   "nbconvert_exporter": "python",
   "pygments_lexer": "ipython3",
   "version": "3.10.8"
  },
  "orig_nbformat": 4,
  "vscode": {
   "interpreter": {
    "hash": "56be47797947fd06fb21b87d05e35aaf6f0e280d1eb5e82f50c14534f707f4a3"
   }
  }
 },
 "nbformat": 4,
 "nbformat_minor": 2
}
